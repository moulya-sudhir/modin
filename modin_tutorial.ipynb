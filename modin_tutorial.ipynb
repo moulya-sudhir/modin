{
 "cells": [
  {
   "attachments": {},
   "cell_type": "markdown",
   "metadata": {},
   "source": [
    "# Exploring MODIN as an alternative to Pandas"
   ]
  },
  {
   "attachments": {},
   "cell_type": "markdown",
   "metadata": {},
   "source": [
    "#### Installing MODIN"
   ]
  },
  {
   "cell_type": "code",
   "execution_count": null,
   "metadata": {},
   "outputs": [],
   "source": [
    "!pip install \"modin[all]\" # Install all of the above"
   ]
  },
  {
   "attachments": {},
   "cell_type": "markdown",
   "metadata": {},
   "source": [
    "Importing libraries"
   ]
  },
  {
   "cell_type": "code",
   "execution_count": 34,
   "metadata": {},
   "outputs": [],
   "source": [
    "import time\n",
    "\n",
    "import os\n",
    "# os.environ[\"MODIN_ENGINE\"] = \"unidist\" # Modin will use Unidist\n",
    "# os.environ[\"UNIDIST_BACKEND\"] = \"mpi\" # Unidist will use MPI backend\n",
    "os.environ[\"MODIN_ENGINE\"] = \"ray\"  # Modin will use Ray\n",
    "# os.environ[\"MODIN_ENGINE\"] = \"dask\"  # Modin will use Dask\n",
    "import modin.pandas as md\n",
    "\n",
    "import pandas as pd"
   ]
  },
  {
   "attachments": {},
   "cell_type": "markdown",
   "metadata": {},
   "source": [
    "#### Loading the Dataset"
   ]
  },
  {
   "attachments": {},
   "cell_type": "markdown",
   "metadata": {},
   "source": [
    "MODIN"
   ]
  },
  {
   "cell_type": "code",
   "execution_count": 47,
   "metadata": {},
   "outputs": [
    {
     "name": "stdout",
     "output_type": "stream",
     "text": [
      "Reading time: 0.7391571998596191 seconds\n",
      "Concat time: 0.008408069610595703 seconds\n"
     ]
    }
   ],
   "source": [
    "def read_data():\n",
    "    start = time.time()\n",
    "    modin_ratings1 = md.read_csv('data/data_archive/data_v2/ratings_v2_1.csv')\n",
    "    modin_ratings2 = md.read_csv('data/data_archive/data_v2/ratings_v2_2.csv') \n",
    "    modin_movies = md.read_csv('data/data_archive/data_v2/movie_info_v2.csv')\n",
    "    read_m = time.time()-start\n",
    "    print(\"Reading time:\",read_m,\"seconds\")\n",
    "    merge = time.time()\n",
    "    modin_ratings = md.concat([modin_ratings1,modin_ratings2]) \n",
    "    concat_m = time.time()-merge\n",
    "    print(\"Concat time:\",concat_m,\"seconds\")  \n",
    "    return modin_ratings,modin_movies,read_m,concat_m\n",
    "modin_ratings,modin_movies,read_m,concat_m = read_data()"
   ]
  },
  {
   "attachments": {},
   "cell_type": "markdown",
   "metadata": {},
   "source": [
    "PANDAS"
   ]
  },
  {
   "cell_type": "code",
   "execution_count": 49,
   "metadata": {},
   "outputs": [
    {
     "name": "stdout",
     "output_type": "stream",
     "text": [
      "Reading time: 1.5362989902496338 seconds\n",
      "Concat time: 0.10606575012207031 seconds\n"
     ]
    }
   ],
   "source": [
    "def read_data():\n",
    "    start = time.time()\n",
    "    pd_ratings1 = pd.read_csv('data/data_archive/data_v2/ratings_v2_1.csv')\n",
    "    pd_ratings2 = pd.read_csv('data/data_archive/data_v2/ratings_v2_2.csv')    \n",
    "    pd_movies = pd.read_csv('data/data_archive/data_v2/movie_info_v2.csv')\n",
    "    read_p = time.time()-start\n",
    "    print(\"Reading time:\",read_p,\"seconds\")\n",
    "    merge = time.time()\n",
    "    pd_ratings = pd.concat([pd_ratings1,pd_ratings2])\n",
    "    concat_p = time.time()-merge\n",
    "    print(\"Concat time:\",concat_p,\"seconds\")\n",
    "    return pd_ratings,pd_movies,read_p,concat_p\n",
    "pd_ratings,pd_movies,read_p,concat_p = read_data()"
   ]
  },
  {
   "attachments": {},
   "cell_type": "markdown",
   "metadata": {},
   "source": [
    "#### Apply function"
   ]
  },
  {
   "attachments": {},
   "cell_type": "markdown",
   "metadata": {},
   "source": [
    "MODIN"
   ]
  },
  {
   "cell_type": "code",
   "execution_count": 51,
   "metadata": {},
   "outputs": [
    {
     "name": "stdout",
     "output_type": "stream",
     "text": [
      "Rounding time:  0.27428483963012695 seconds\n"
     ]
    }
   ],
   "source": [
    "def round1():\n",
    "    start = time.time()\n",
    "    ratings_per_movie_md = modin_ratings['rate'].apply(round)\n",
    "    round_m = time.time()-start\n",
    "    print(\"Rounding time: \",round_m,\"seconds\")\n",
    "    return ratings_per_movie_md,round_m\n",
    "ratings_per_movie_md,round_m = round1()"
   ]
  },
  {
   "attachments": {},
   "cell_type": "markdown",
   "metadata": {},
   "source": [
    "PANDAS"
   ]
  },
  {
   "cell_type": "code",
   "execution_count": 52,
   "metadata": {},
   "outputs": [
    {
     "name": "stdout",
     "output_type": "stream",
     "text": [
      "Rounding time:  0.3562281131744385 seconds\n"
     ]
    }
   ],
   "source": [
    "def round1():\n",
    "    start = time.time()\n",
    "    ratings_per_movie_pd = pd_ratings['rate'].apply(round)\n",
    "    round_p = time.time()-start\n",
    "    print(\"Rounding time: \",round_p,\"seconds\")\n",
    "    return ratings_per_movie_pd,round_p\n",
    "ratings_per_movie_pd,round_p = round1()"
   ]
  },
  {
   "attachments": {},
   "cell_type": "markdown",
   "metadata": {},
   "source": [
    "#### Merging ratings and movie dataframes"
   ]
  },
  {
   "attachments": {},
   "cell_type": "markdown",
   "metadata": {},
   "source": [
    "MODIN"
   ]
  },
  {
   "cell_type": "code",
   "execution_count": 59,
   "metadata": {},
   "outputs": [
    {
     "name": "stdout",
     "output_type": "stream",
     "text": [
      "Reading time:  0.10237002372741699 seconds\n"
     ]
    }
   ],
   "source": [
    "def merging():\n",
    "    start = time.time()\n",
    "    merged_md = md.merge(modin_ratings,modin_movies,how='inner',\n",
    "             left_on='movie_id',right_on='movie_id')\n",
    "    merge_m = time.time()-start\n",
    "    print(\"Reading time: \",merge_m,\"seconds\")\n",
    "    return merged_md,merge_m\n",
    "merged_md,merge_m = merging()"
   ]
  },
  {
   "attachments": {},
   "cell_type": "markdown",
   "metadata": {},
   "source": [
    "PANDAS"
   ]
  },
  {
   "cell_type": "code",
   "execution_count": 60,
   "metadata": {},
   "outputs": [
    {
     "name": "stdout",
     "output_type": "stream",
     "text": [
      "Reading time:  1.0103511810302734 seconds\n"
     ]
    }
   ],
   "source": [
    "def merging():\n",
    "    start = time.time()\n",
    "    merged_pd = pd.merge(pd_ratings,pd_movies,how='inner',\n",
    "             left_on='movie_id',right_on='movie_id')\n",
    "    merge_p = time.time()-start\n",
    "    print(\"Reading time: \",merge_p,\"seconds\")\n",
    "    return merged_pd,merge_p\n",
    "merged_pd,merge_p = merging()"
   ]
  },
  {
   "attachments": {},
   "cell_type": "markdown",
   "metadata": {},
   "source": [
    "#### Get mean of Ratings"
   ]
  },
  {
   "attachments": {},
   "cell_type": "markdown",
   "metadata": {},
   "source": [
    "MODIN"
   ]
  },
  {
   "cell_type": "code",
   "execution_count": 77,
   "metadata": {},
   "outputs": [
    {
     "name": "stdout",
     "output_type": "stream",
     "text": [
      "Mean time: 0.23832416534423828 seconds\n"
     ]
    }
   ],
   "source": [
    "def get_mean():\n",
    "    start = time.time()\n",
    "    mean_rate_md = merged_md['rate'].mean()\n",
    "    mean_m = time.time()-start\n",
    "    print(\"Mean time:\",mean_m,\"seconds\")\n",
    "    return mean_rate_md,mean_m\n",
    "mean_rate_md,mean_m = get_mean()"
   ]
  },
  {
   "attachments": {},
   "cell_type": "markdown",
   "metadata": {},
   "source": [
    "PANDAS"
   ]
  },
  {
   "attachments": {},
   "cell_type": "markdown",
   "metadata": {},
   "source": [
    "#### Comparison Statistics"
   ]
  },
  {
   "cell_type": "code",
   "execution_count": 79,
   "metadata": {},
   "outputs": [
    {
     "name": "stdout",
     "output_type": "stream",
     "text": [
      "Metric          Pandas                         Modin                         \n",
      "Reading time    1.5362989902496338             0.7391571998596191            \n",
      "Concat time     0.10606575012207031            0.008408069610595703          \n",
      "Apply time      0.3562281131744385             0.27428483963012695           \n",
      "Merge time      1.0103511810302734             0.10237002372741699           \n"
     ]
    }
   ],
   "source": [
    "stats = {\n",
    "    'Reading time':[read_p,read_m],\n",
    "    'Concat time':[concat_p,concat_m],\n",
    "    'Apply time':[round_p,round_m],\n",
    "    'Merge time':[merge_p,merge_m]\n",
    "}\n",
    "print (\"{:<15} {:<30} {:<30}\".format('Metric','Pandas','Modin'))\n",
    "for k, v in stats.items():\n",
    "    pand,mod = v\n",
    "    print (\"{:<15} {:<30} {:<30}\".format(k, pand, mod))"
   ]
  }
 ],
 "metadata": {
  "kernelspec": {
   "display_name": "moulya",
   "language": "python",
   "name": "python3"
  },
  "language_info": {
   "codemirror_mode": {
    "name": "ipython",
    "version": 3
   },
   "file_extension": ".py",
   "mimetype": "text/x-python",
   "name": "python",
   "nbconvert_exporter": "python",
   "pygments_lexer": "ipython3",
   "version": "3.9.12"
  },
  "orig_nbformat": 4
 },
 "nbformat": 4,
 "nbformat_minor": 2
}
